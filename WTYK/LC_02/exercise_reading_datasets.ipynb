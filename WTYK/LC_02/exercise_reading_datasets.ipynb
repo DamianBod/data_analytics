{
 "cells": [
  {
   "cell_type": "markdown",
   "metadata": {},
   "source": [
    "## Exercises large classes (Week_02)"
   ]
  },
  {
   "cell_type": "markdown",
   "metadata": {},
   "source": [
    "## Python libraries and settings"
   ]
  },
  {
   "cell_type": "code",
   "execution_count": 1,
   "metadata": {},
   "outputs": [
    {
     "name": "stdout",
     "output_type": "stream",
     "text": [
      "/workspaces/data_analytics/WTYK/LC_02\n"
     ]
    }
   ],
   "source": [
    "# Python libraries\n",
    "import os\n",
    "import re\n",
    "import pandas as pd\n",
    "import matplotlib.pyplot as plt\n",
    "\n",
    "# Settings\n",
    "import warnings\n",
    "warnings.filterwarnings(\"ignore\")\n",
    "\n",
    "# Get working directory\n",
    "print(os.getcwd())\n"
   ]
  },
  {
   "cell_type": "markdown",
   "metadata": {},
   "source": [
    "### BigmacPrice.csv"
   ]
  },
  {
   "cell_type": "code",
   "execution_count": 13,
   "metadata": {},
   "outputs": [
    {
     "name": "stdout",
     "output_type": "stream",
     "text": [
      "         date currency_code       name  local_price  dollar_ex  dollar_price\n",
      "0  2000-04-01           ARS  Argentina         2.50          1          2.50\n",
      "1  2000-04-01           AUD  Australia         2.59          1          2.59\n",
      "2  2000-04-01           BRL     Brazil         2.95          1          2.95\n",
      "3  2000-04-01           GBP    Britain         1.90          1          1.90\n",
      "4  2000-04-01           CAD     Canada         2.85          1          2.85\n",
      "\n",
      " date              object\n",
      "currency_code     object\n",
      "name              object\n",
      "local_price      float64\n",
      "dollar_ex          int64\n",
      "dollar_price     float64\n",
      "dtype: object\n",
      "\n",
      " <class 'pandas.core.frame.DataFrame'>\n"
     ]
    }
   ],
   "source": [
    "# Read BigmacPrice.csv to data frame\n",
    "df = pd.read_csv('BigmacPrice.csv', sep=',', encoding='utf-8')\n",
    "\n",
    "# Print header\n",
    "print(df.head())\n",
    "\n",
    "# Show data types\n",
    "print('\\n', df.dtypes)\n",
    "\n",
    "# Show type of 'df'\n",
    "print('\\n', type(df))\n"
   ]
  },
  {
   "cell_type": "markdown",
   "metadata": {},
   "source": [
    "### ChickenData.xlsx"
   ]
  },
  {
   "cell_type": "code",
   "execution_count": 16,
   "metadata": {},
   "outputs": [
    {
     "name": "stdout",
     "output_type": "stream",
     "text": [
      "   chicken_id       weight              breed  eggs_per_year\n",
      "0           1  2728.854920  New Hampshire Red            158\n",
      "1           2  2323.761365         Australorp            273\n",
      "2           3  2635.062034  New Hampshire Red            153\n",
      "3           4  2603.985152      Plymouth Rock            268\n",
      "4           5  3079.394487         Australorp            360\n",
      "\n",
      " chicken_id         int64\n",
      "weight           float64\n",
      "breed             object\n",
      "eggs_per_year      int64\n",
      "dtype: object\n",
      "\n",
      " <class 'pandas.core.frame.DataFrame'>\n",
      "\n",
      " {'New Hampshire Red': 297, 'Australorp': 213, 'Plymouth Rock': 314, 'Barnevelder': 316, 'ISA Brown': 225}\n"
     ]
    }
   ],
   "source": [
    "# Read ChickenData.xlsx to data frame\n",
    "df = pd.read_excel('ChickenData.xlsx', sheet_name='Sheet1')\n",
    "\n",
    "# Print header\n",
    "print(df.head())\n",
    "\n",
    "# Show data types\n",
    "print('\\n', df.dtypes)\n",
    "\n",
    "# Show type of 'df'\n",
    "print('\\n', type(df))\n",
    "\n",
    "# Create dictionary from the data frame with breed (keys) and eggs_per_year (values)\n",
    "dict = df.set_index('breed')['eggs_per_year'].to_dict()\n",
    "\n",
    "# Print the dictionary\n",
    "print('\\n', dict)"
   ]
  },
  {
   "cell_type": "markdown",
   "metadata": {},
   "source": [
    "### Cars_autoscout24.csv"
   ]
  },
  {
   "cell_type": "code",
   "execution_count": 28,
   "metadata": {},
   "outputs": [
    {
     "name": "stdout",
     "output_type": "stream",
     "text": [
      "   Offer_Id                                               Type         Price  \\\n",
      "0   7324420  AUDI A5 Sportback 3.0 TDI quattro S-tronic (Li...  CHF 22'500.–   \n",
      "1   7512768        MERCEDES-BENZ SLK 200 7G-Tronic (Cabriolet)  CHF 23'749.–   \n",
      "2   7512034  MERCEDES-BENZ C 350 Avantgarde 4Matic 7G-Troni...  CHF 18'500.–   \n",
      "3   7512728  MERCEDES-BENZ A 45 AMG 4Matic Speedshift 7G-DC...  CHF 36'000.–   \n",
      "4   7490242  AUDI A5 Sportback 2.0 TFSI Sport quattro S-tro...  CHF 48'500.–   \n",
      "\n",
      "       PS Init_Regist   Kilometer Fuel_Type                    Transmission  \n",
      "0  245 PS     10.2014   75'000 km    Diesel  Automatisiertes Schaltgetriebe  \n",
      "1  184 PS      6.2013   46'655 km    Benzin             Automat sequentiell  \n",
      "2  306 PS      6.2011  138'955 km    Benzin             Automat sequentiell  \n",
      "3  360 PS      8.2015   43'000 km    Benzin  Automatisiertes Schaltgetriebe  \n",
      "4  252 PS      9.2018   43'300 km    Benzin  Automatisiertes Schaltgetriebe  \n",
      "   Offer_Id                                               Type         Price  \\\n",
      "0   7324420  AUDI A5 Sportback 3.0 TDI quattro S-tronic (Li...  CHF 22'500.–   \n",
      "1   7512768        MERCEDES-BENZ SLK 200 7G-Tronic (Cabriolet)  CHF 23'749.–   \n",
      "2   7512034  MERCEDES-BENZ C 350 Avantgarde 4Matic 7G-Troni...  CHF 18'500.–   \n",
      "3   7512728  MERCEDES-BENZ A 45 AMG 4Matic Speedshift 7G-DC...  CHF 36'000.–   \n",
      "4   7490242  AUDI A5 Sportback 2.0 TFSI Sport quattro S-tro...  CHF 48'500.–   \n",
      "\n",
      "       PS Init_Regist   Kilometer Fuel_Type                    Transmission  \\\n",
      "0  245 PS     10.2014   75'000 km    Diesel  Automatisiertes Schaltgetriebe   \n",
      "1  184 PS      6.2013   46'655 km    Benzin             Automat sequentiell   \n",
      "2  306 PS      6.2011  138'955 km    Benzin             Automat sequentiell   \n",
      "3  360 PS      8.2015   43'000 km    Benzin  Automatisiertes Schaltgetriebe   \n",
      "4  252 PS      9.2018   43'300 km    Benzin  Automatisiertes Schaltgetriebe   \n",
      "\n",
      "  Price_numeric  \n",
      "0         22500  \n",
      "1         23749  \n",
      "2         18500  \n",
      "3         36000  \n",
      "4         48500  \n"
     ]
    }
   ],
   "source": [
    "# Linux commands to get/set encoding of file (run in terminal)\n",
    "# file -i Cars_autoscout24.csv\n",
    "# --> provides 'charset=unknown-8bit'\n",
    "# --> download the file and open with e.g. Notepad++ (on Windows)\n",
    "# --> shows ANSI which is \"windows-1252\" (see https://de.wikipedia.org/wiki/Windows-1252)\n",
    "\n",
    "# Convert to UTF-8, if needed, otherwise, use encoding='cp1252' in pd.read_csv\n",
    "# iconv -f \"windows-1252\" -t \"UTF-8\" Cars_autoscout24.csv -o Cars_autoscout24_utf8.csv\n",
    "\n",
    "# Read Cars_autoscout24.csv to data frame\n",
    "df = pd.read_csv('Cars_autoscout24.csv', sep=';', encoding='cp1252')\n",
    "print(df.head())\n",
    "\n",
    "# Function to extract numerical values from the column 'Price'\n",
    "extract_price = lambda x: re.sub(r'\\D', '', x)\n",
    "\n",
    "# Apply the function to the column 'Price' and create a new column 'Price_numeric'\n",
    "df['Price_numeric'] = df['Price'].apply(extract_price)\n",
    "\n",
    "# Display the DataFrame\n",
    "print(df.head())"
   ]
  },
  {
   "cell_type": "markdown",
   "metadata": {},
   "source": [
    "### Histogram of car prices"
   ]
  },
  {
   "cell_type": "code",
   "execution_count": 27,
   "metadata": {},
   "outputs": [
    {
     "data": {
      "image/png": "[encoded data removed]",
      "text/plain": [
       "<Figure size 640x480 with 1 Axes>"
      ]
     },
     "metadata": {},
     "output_type": "display_data"
    }
   ],
   "source": [
    "# Plotting the histogram of car prices\n",
    "plt.hist(df['Price_numeric'].astype(int), bins=20, edgecolor='black')\n",
    "plt.title('Histogram of Car Prices')\n",
    "plt.xlabel('Price (CHF)')\n",
    "plt.ylabel('Frequency')\n",
    "plt.show()"
   ]
  }
 ],
 "metadata": {
  "kernelspec": {
   "display_name": "Python 3",
   "language": "python",
   "name": "python3"
  },
  "language_info": {
   "codemirror_mode": {
    "name": "ipython",
    "version": 3
   },
   "file_extension": ".py",
   "mimetype": "text/x-python",
   "name": "python",
   "nbconvert_exporter": "python",
   "pygments_lexer": "ipython3",
   "version": "3.11.10"
  },
  "orig_nbformat": 4
 },
 "nbformat": 4,
 "nbformat_minor": 2
}
